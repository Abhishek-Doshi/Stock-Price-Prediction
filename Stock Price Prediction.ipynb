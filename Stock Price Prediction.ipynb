{
 "cells": [
  {
   "cell_type": "code",
   "execution_count": 1,
   "metadata": {},
   "outputs": [
    {
     "name": "stderr",
     "output_type": "stream",
     "text": [
      "Using TensorFlow backend.\n"
     ]
    }
   ],
   "source": [
    "import numpy as np\n",
    "import pandas as pd\n",
    "from keras.models import Sequential\n",
    "from sklearn.model_selection import train_test_split\n",
    "from keras.layers import Dense, Activation, LSTM, Dropout\n",
    "from matplotlib import pyplot as plt\n",
    "from sklearn.preprocessing import MinMaxScaler"
   ]
  },
  {
   "cell_type": "code",
   "execution_count": 5,
   "metadata": {},
   "outputs": [
    {
     "data": {
      "text/html": [
       "<div>\n",
       "<style scoped>\n",
       "    .dataframe tbody tr th:only-of-type {\n",
       "        vertical-align: middle;\n",
       "    }\n",
       "\n",
       "    .dataframe tbody tr th {\n",
       "        vertical-align: top;\n",
       "    }\n",
       "\n",
       "    .dataframe thead th {\n",
       "        text-align: right;\n",
       "    }\n",
       "</style>\n",
       "<table border=\"1\" class=\"dataframe\">\n",
       "  <thead>\n",
       "    <tr style=\"text-align: right;\">\n",
       "      <th></th>\n",
       "      <th>Date</th>\n",
       "      <th>Open</th>\n",
       "      <th>High</th>\n",
       "      <th>Low</th>\n",
       "      <th>Close</th>\n",
       "      <th>Adj Close</th>\n",
       "      <th>Volume</th>\n",
       "    </tr>\n",
       "  </thead>\n",
       "  <tbody>\n",
       "    <tr>\n",
       "      <th>0</th>\n",
       "      <td>2014-07-17</td>\n",
       "      <td>45.450001</td>\n",
       "      <td>45.709999</td>\n",
       "      <td>44.250000</td>\n",
       "      <td>44.529999</td>\n",
       "      <td>39.746288</td>\n",
       "      <td>82180300</td>\n",
       "    </tr>\n",
       "    <tr>\n",
       "      <th>1</th>\n",
       "      <td>2014-07-18</td>\n",
       "      <td>44.650002</td>\n",
       "      <td>44.840000</td>\n",
       "      <td>44.250000</td>\n",
       "      <td>44.689999</td>\n",
       "      <td>39.889099</td>\n",
       "      <td>43407500</td>\n",
       "    </tr>\n",
       "    <tr>\n",
       "      <th>2</th>\n",
       "      <td>2014-07-21</td>\n",
       "      <td>44.560001</td>\n",
       "      <td>45.160000</td>\n",
       "      <td>44.220001</td>\n",
       "      <td>44.840000</td>\n",
       "      <td>40.022984</td>\n",
       "      <td>37604400</td>\n",
       "    </tr>\n",
       "    <tr>\n",
       "      <th>3</th>\n",
       "      <td>2014-07-22</td>\n",
       "      <td>45.000000</td>\n",
       "      <td>45.150002</td>\n",
       "      <td>44.590000</td>\n",
       "      <td>44.830002</td>\n",
       "      <td>40.014069</td>\n",
       "      <td>43095800</td>\n",
       "    </tr>\n",
       "    <tr>\n",
       "      <th>4</th>\n",
       "      <td>2014-07-23</td>\n",
       "      <td>45.450001</td>\n",
       "      <td>45.450001</td>\n",
       "      <td>44.619999</td>\n",
       "      <td>44.869999</td>\n",
       "      <td>40.049759</td>\n",
       "      <td>52362900</td>\n",
       "    </tr>\n",
       "  </tbody>\n",
       "</table>\n",
       "</div>"
      ],
      "text/plain": [
       "        Date       Open       High        Low      Close  Adj Close    Volume\n",
       "0 2014-07-17  45.450001  45.709999  44.250000  44.529999  39.746288  82180300\n",
       "1 2014-07-18  44.650002  44.840000  44.250000  44.689999  39.889099  43407500\n",
       "2 2014-07-21  44.560001  45.160000  44.220001  44.840000  40.022984  37604400\n",
       "3 2014-07-22  45.000000  45.150002  44.590000  44.830002  40.014069  43095800\n",
       "4 2014-07-23  45.450001  45.450001  44.619999  44.869999  40.049759  52362900"
      ]
     },
     "execution_count": 5,
     "metadata": {},
     "output_type": "execute_result"
    }
   ],
   "source": [
    "df = pd.read_csv(r\"C:\\Users\\Home\\Desktop\\Abhishek\\Python\\Python Database\\MSFT_1.csv\", parse_dates=['Date'])\n",
    "df.head()"
   ]
  },
  {
   "cell_type": "code",
   "execution_count": 4,
   "metadata": {},
   "outputs": [
    {
     "data": {
      "text/html": [
       "<div>\n",
       "<style scoped>\n",
       "    .dataframe tbody tr th:only-of-type {\n",
       "        vertical-align: middle;\n",
       "    }\n",
       "\n",
       "    .dataframe tbody tr th {\n",
       "        vertical-align: top;\n",
       "    }\n",
       "\n",
       "    .dataframe thead th {\n",
       "        text-align: right;\n",
       "    }\n",
       "</style>\n",
       "<table border=\"1\" class=\"dataframe\">\n",
       "  <thead>\n",
       "    <tr style=\"text-align: right;\">\n",
       "      <th></th>\n",
       "      <th>Close</th>\n",
       "    </tr>\n",
       "  </thead>\n",
       "  <tbody>\n",
       "    <tr>\n",
       "      <th>0</th>\n",
       "      <td>44.529999</td>\n",
       "    </tr>\n",
       "    <tr>\n",
       "      <th>1</th>\n",
       "      <td>44.689999</td>\n",
       "    </tr>\n",
       "    <tr>\n",
       "      <th>2</th>\n",
       "      <td>44.840000</td>\n",
       "    </tr>\n",
       "    <tr>\n",
       "      <th>3</th>\n",
       "      <td>44.830002</td>\n",
       "    </tr>\n",
       "    <tr>\n",
       "      <th>4</th>\n",
       "      <td>44.869999</td>\n",
       "    </tr>\n",
       "  </tbody>\n",
       "</table>\n",
       "</div>"
      ],
      "text/plain": [
       "       Close\n",
       "0  44.529999\n",
       "1  44.689999\n",
       "2  44.840000\n",
       "3  44.830002\n",
       "4  44.869999"
      ]
     },
     "execution_count": 4,
     "metadata": {},
     "output_type": "execute_result"
    }
   ],
   "source": [
    "data = df.drop(['Open', 'High', 'Low', 'Adj Close', 'Volume', 'Date'], axis='columns')\n",
    "data.head()"
   ]
  },
  {
   "cell_type": "code",
   "execution_count": 8,
   "metadata": {
    "scrolled": true
   },
   "outputs": [
    {
     "data": {
      "image/png": "[encoded data removed]",
      "text/plain": [
       "<Figure size 432x288 with 1 Axes>"
      ]
     },
     "metadata": {
      "needs_background": "light"
     },
     "output_type": "display_data"
    }
   ],
   "source": [
    "plt.plot(data.Close)\n",
    "plt.xlabel(\"Business Days from 2014-07-17\")\n",
    "plt.ylabel(\"Price\")\n",
    "plt.legend()\n",
    "plt.show()"
   ]
  },
  {
   "cell_type": "code",
   "execution_count": 9,
   "metadata": {},
   "outputs": [],
   "source": [
    "train = data.values[:1000,0]\n",
    "test = data.values[1000:,0]\n",
    "train_idx = data.index[:1000]\n",
    "test_idx = data.index[1000:]"
   ]
  },
  {
   "cell_type": "code",
   "execution_count": 10,
   "metadata": {
    "scrolled": true
   },
   "outputs": [
    {
     "name": "stderr",
     "output_type": "stream",
     "text": [
      "No handles with labels found to put in legend.\n"
     ]
    },
    {
     "data": {
      "image/png": "[encoded data removed]",
      "text/plain": [
       "<Figure size 432x288 with 1 Axes>"
      ]
     },
     "metadata": {
      "needs_background": "light"
     },
     "output_type": "display_data"
    }
   ],
   "source": [
    "plt.plot(train_idx, train)\n",
    "plt.plot(test_idx, test)\n",
    "plt.xlabel(\"Business Days from 2014-07-17\")\n",
    "plt.ylabel(\"Price\")\n",
    "plt.legend()\n",
    "plt.show()"
   ]
  },
  {
   "cell_type": "code",
   "execution_count": 17,
   "metadata": {},
   "outputs": [
    {
     "data": {
      "text/plain": [
       "1259"
      ]
     },
     "execution_count": 17,
     "metadata": {},
     "output_type": "execute_result"
    }
   ],
   "source": [
    "scaler = MinMaxScaler(feature_range=(0, 1))\n",
    "scaled_data = scaler.fit_transform(data)\n",
    "\n",
    "scaled_data.size"
   ]
  },
  {
   "cell_type": "code",
   "execution_count": 29,
   "metadata": {},
   "outputs": [
    {
     "data": {
      "text/plain": [
       "(940, 60)"
      ]
     },
     "execution_count": 29,
     "metadata": {},
     "output_type": "execute_result"
    }
   ],
   "source": [
    "X_train, y_train = [], []\n",
    "\n",
    "for i in range(60, len(train)):\n",
    "    X_train.append(scaled_data[i-60:i,0])\n",
    "    y_train.append(scaled_data[i,0])\n",
    "X_train, y_train = np.array(X_train), np.array(y_train)\n",
    "\n",
    "X_train.shape"
   ]
  },
  {
   "cell_type": "code",
   "execution_count": 23,
   "metadata": {},
   "outputs": [
    {
     "data": {
      "text/plain": [
       "15540"
      ]
     },
     "execution_count": 23,
     "metadata": {},
     "output_type": "execute_result"
    }
   ],
   "source": [
    "X_test = []\n",
    "\n",
    "inputs = data[len(data) - len(test) - 60:].values\n",
    "inputs = inputs.reshape(-1,1)\n",
    "inputs  = scaler.fit_transform(inputs)\n",
    "\n",
    "for i in range(60,inputs.shape[0]):\n",
    "    X_test.append(inputs[i-60:i,0])\n",
    "    \n",
    "X_test = np.array(X_test)\n",
    "\n",
    "X_test.size"
   ]
  },
  {
   "cell_type": "code",
   "execution_count": 21,
   "metadata": {},
   "outputs": [],
   "source": [
    "X_train = np.reshape(X_train, (X_train.shape[0], X_train.shape[1], 1))\n",
    "X_test = np.reshape(X_test, (X_test.shape[0], X_test.shape[1], 1))"
   ]
  },
  {
   "cell_type": "code",
   "execution_count": 60,
   "metadata": {},
   "outputs": [],
   "source": [
    "model = Sequential()\n",
    "model.add(LSTM(units=100, return_sequences=True, input_shape=(X_test.shape[1],1)))\n",
    "model.add(Dropout(0))\n",
    "model.add(LSTM(units=100, return_sequences=True))\n",
    "model.add(Dropout(0))\n",
    "model.add(LSTM(units=100, return_sequences=True))\n",
    "model.add(Dropout(0))\n",
    "model.add(LSTM(units=100))\n",
    "model.add(Dropout(0))\n",
    "model.add(Dense(units=1))"
   ]
  },
  {
   "cell_type": "code",
   "execution_count": 61,
   "metadata": {},
   "outputs": [],
   "source": [
    "model.compile(loss='mean_squared_error', optimizer='adam')"
   ]
  },
  {
   "cell_type": "code",
   "execution_count": 62,
   "metadata": {
    "scrolled": true
   },
   "outputs": [
    {
     "name": "stdout",
     "output_type": "stream",
     "text": [
      "Epoch 1/50\n",
      "940/940 [==============================] - 9s 10ms/step - loss: 0.0113\n",
      "Epoch 2/50\n",
      "940/940 [==============================] - 8s 8ms/step - loss: 7.1922e-04\n",
      "Epoch 3/50\n",
      "940/940 [==============================] - 7s 8ms/step - loss: 4.8977e-04\n",
      "Epoch 4/50\n",
      "940/940 [==============================] - 8s 8ms/step - loss: 4.7567e-04\n",
      "Epoch 5/50\n",
      "940/940 [==============================] - 7s 8ms/step - loss: 4.6451e-04\n",
      "Epoch 6/50\n",
      "940/940 [==============================] - 8s 8ms/step - loss: 6.7576e-04\n",
      "Epoch 7/50\n",
      "940/940 [==============================] - 8s 8ms/step - loss: 5.1747e-04\n",
      "Epoch 8/50\n",
      "940/940 [==============================] - 8s 8ms/step - loss: 4.6318e-04\n",
      "Epoch 9/50\n",
      "940/940 [==============================] - 8s 8ms/step - loss: 6.2263e-04\n",
      "Epoch 10/50\n",
      "940/940 [==============================] - 8s 8ms/step - loss: 4.7811e-04\n",
      "Epoch 11/50\n",
      "940/940 [==============================] - 8s 9ms/step - loss: 4.6020e-04\n",
      "Epoch 12/50\n",
      "940/940 [==============================] - 8s 8ms/step - loss: 4.0459e-04\n",
      "Epoch 13/50\n",
      "940/940 [==============================] - 8s 8ms/step - loss: 3.9153e-04\n",
      "Epoch 14/50\n",
      "940/940 [==============================] - 7s 8ms/step - loss: 3.8159e-04\n",
      "Epoch 15/50\n",
      "940/940 [==============================] - 8s 8ms/step - loss: 4.1504e-04\n",
      "Epoch 16/50\n",
      "940/940 [==============================] - 8s 8ms/step - loss: 5.5210e-04\n",
      "Epoch 17/50\n",
      "940/940 [==============================] - 8s 8ms/step - loss: 5.4947e-04\n",
      "Epoch 18/50\n",
      "940/940 [==============================] - 7s 8ms/step - loss: 7.0994e-04\n",
      "Epoch 19/50\n",
      "940/940 [==============================] - 8s 8ms/step - loss: 4.8825e-04\n",
      "Epoch 20/50\n",
      "940/940 [==============================] - 8s 8ms/step - loss: 3.5549e-04\n",
      "Epoch 21/50\n",
      "940/940 [==============================] - 8s 9ms/step - loss: 3.4726e-04\n",
      "Epoch 22/50\n",
      "940/940 [==============================] - 8s 8ms/step - loss: 3.1495e-04\n",
      "Epoch 23/50\n",
      "940/940 [==============================] - 8s 8ms/step - loss: 3.0368e-04\n",
      "Epoch 24/50\n",
      "940/940 [==============================] - 8s 8ms/step - loss: 3.2924e-04\n",
      "Epoch 25/50\n",
      "940/940 [==============================] - 8s 8ms/step - loss: 3.1272e-04\n",
      "Epoch 26/50\n",
      "940/940 [==============================] - 8s 8ms/step - loss: 2.8652e-04\n",
      "Epoch 27/50\n",
      "940/940 [==============================] - 8s 8ms/step - loss: 3.4429e-04\n",
      "Epoch 28/50\n",
      "940/940 [==============================] - 8s 8ms/step - loss: 3.2662e-04\n",
      "Epoch 29/50\n",
      "940/940 [==============================] - 8s 8ms/step - loss: 2.7140e-04\n",
      "Epoch 30/50\n",
      "940/940 [==============================] - 8s 8ms/step - loss: 2.4736e-04\n",
      "Epoch 31/50\n",
      "940/940 [==============================] - 9s 9ms/step - loss: 2.4257e-04\n",
      "Epoch 32/50\n",
      "940/940 [==============================] - 8s 8ms/step - loss: 3.0267e-04\n",
      "Epoch 33/50\n",
      "940/940 [==============================] - 8s 8ms/step - loss: 2.3502e-04\n",
      "Epoch 34/50\n",
      "940/940 [==============================] - 7s 8ms/step - loss: 2.3694e-04\n",
      "Epoch 35/50\n",
      "940/940 [==============================] - 8s 8ms/step - loss: 2.1971e-04\n",
      "Epoch 36/50\n",
      "940/940 [==============================] - 8s 8ms/step - loss: 2.0221e-04\n",
      "Epoch 37/50\n",
      "940/940 [==============================] - 8s 9ms/step - loss: 2.8281e-04\n",
      "Epoch 38/50\n",
      "940/940 [==============================] - 9s 9ms/step - loss: 2.1645e-04\n",
      "Epoch 39/50\n",
      "940/940 [==============================] - 8s 8ms/step - loss: 1.9936e-04\n",
      "Epoch 40/50\n",
      "940/940 [==============================] - 7s 8ms/step - loss: 1.8002e-04\n",
      "Epoch 41/50\n",
      "940/940 [==============================] - 8s 8ms/step - loss: 1.8023e-04\n",
      "Epoch 42/50\n",
      "940/940 [==============================] - 7s 8ms/step - loss: 2.1176e-04\n",
      "Epoch 43/50\n",
      "940/940 [==============================] - 8s 8ms/step - loss: 1.7879e-04\n",
      "Epoch 44/50\n",
      "940/940 [==============================] - 8s 8ms/step - loss: 1.9463e-04\n",
      "Epoch 45/50\n",
      "940/940 [==============================] - 8s 8ms/step - loss: 1.5937e-04\n",
      "Epoch 46/50\n",
      "940/940 [==============================] - 8s 9ms/step - loss: 1.5370e-04\n",
      "Epoch 47/50\n",
      "940/940 [==============================] - 8s 8ms/step - loss: 1.5504e-04\n",
      "Epoch 48/50\n",
      "940/940 [==============================] - 8s 8ms/step - loss: 2.3826e-04\n",
      "Epoch 49/50\n",
      "940/940 [==============================] - 8s 9ms/step - loss: 1.3960e-04\n",
      "Epoch 50/50\n",
      "940/940 [==============================] - 8s 8ms/step - loss: 1.3534e-04\n"
     ]
    },
    {
     "data": {
      "text/plain": [
       "<keras.callbacks.History at 0x247e4d68>"
      ]
     },
     "execution_count": 62,
     "metadata": {},
     "output_type": "execute_result"
    }
   ],
   "source": [
    "model.fit(X_train, y_train, epochs=50, batch_size=32)"
   ]
  },
  {
   "cell_type": "code",
   "execution_count": 63,
   "metadata": {
    "scrolled": true
   },
   "outputs": [],
   "source": [
    "yp = model.predict(X_test)\n",
    "yp = scaler.inverse_transform(yp)"
   ]
  },
  {
   "cell_type": "code",
   "execution_count": 64,
   "metadata": {},
   "outputs": [
    {
     "data": {
      "image/png": "[encoded data removed]",
      "text/plain": [
       "<Figure size 432x288 with 1 Axes>"
      ]
     },
     "metadata": {
      "needs_background": "light"
     },
     "output_type": "display_data"
    }
   ],
   "source": [
    "X_train = data.index[:1000]\n",
    "X_test = data.index[1000:]\n",
    "y_train = data.Close[:1000]\n",
    "y_test = data.Close[1000:]\n",
    "\n",
    "plt.plot(X_train, y_train)\n",
    "plt.plot(X_test, y_test)\n",
    "plt.plot(X_test, yp)\n",
    "plt.xlabel(\"Business Days from 1986-03-13\")\n",
    "plt.ylabel(\"Price\")\n",
    "plt.legend()\n",
    "plt.show()"
   ]
  }
 ],
 "metadata": {
  "kernelspec": {
   "display_name": "Python 3",
   "language": "python",
   "name": "python3"
  },
  "language_info": {
   "codemirror_mode": {
    "name": "ipython",
    "version": 3
   },
   "file_extension": ".py",
   "mimetype": "text/x-python",
   "name": "python",
   "nbconvert_exporter": "python",
   "pygments_lexer": "ipython3",
   "version": "3.6.8"
  }
 },
 "nbformat": 4,
 "nbformat_minor": 2
}
